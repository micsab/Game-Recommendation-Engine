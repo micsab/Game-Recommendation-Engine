{
 "cells": [
  {
   "cell_type": "code",
   "execution_count": 11,
   "metadata": {
    "ExecuteTime": {
     "end_time": "2019-01-06T05:55:51.169888Z",
     "start_time": "2019-01-06T05:55:51.166885Z"
    }
   },
   "outputs": [],
   "source": [
    "import pandas as pd\n",
    "import numpy as np\n",
    "from sklearn.feature_extraction.text import CountVectorizer\n",
    "from sklearn.metrics.pairwise import linear_kernel\n",
    "from sklearn.feature_extraction.text import TfidfVectorizer"
   ]
  },
  {
   "cell_type": "code",
   "execution_count": 28,
   "metadata": {
    "ExecuteTime": {
     "end_time": "2019-01-06T06:23:02.425330Z",
     "start_time": "2019-01-06T06:23:02.066328Z"
    }
   },
   "outputs": [
    {
     "data": {
      "text/html": [
       "<div>\n",
       "<style scoped>\n",
       "    .dataframe tbody tr th:only-of-type {\n",
       "        vertical-align: middle;\n",
       "    }\n",
       "\n",
       "    .dataframe tbody tr th {\n",
       "        vertical-align: top;\n",
       "    }\n",
       "\n",
       "    .dataframe thead th {\n",
       "        text-align: right;\n",
       "    }\n",
       "</style>\n",
       "<table border=\"1\" class=\"dataframe\">\n",
       "  <thead>\n",
       "    <tr style=\"text-align: right;\">\n",
       "      <th></th>\n",
       "      <th>game_title</th>\n",
       "      <th>steam_url</th>\n",
       "      <th>tags</th>\n",
       "      <th>image</th>\n",
       "      <th>description</th>\n",
       "      <th>number_of_review</th>\n",
       "      <th>score</th>\n",
       "      <th>release_date</th>\n",
       "      <th>appid</th>\n",
       "    </tr>\n",
       "  </thead>\n",
       "  <tbody>\n",
       "    <tr>\n",
       "      <th>0</th>\n",
       "      <td>Counter-Strike: Global Offensive</td>\n",
       "      <td>https://store.steampowered.com/app/730/Counter...</td>\n",
       "      <td>FPS, Multiplayer, Shooter, Action, Team-Based,...</td>\n",
       "      <td>https://steamcdn-a.akamaihd.net/steam/apps/730...</td>\n",
       "      <td>Counter-Strike: Global Offensive (CS: GO) expa...</td>\n",
       "      <td>2915091</td>\n",
       "      <td>9.0</td>\n",
       "      <td>Aug 21, 2012</td>\n",
       "      <td>730</td>\n",
       "    </tr>\n",
       "    <tr>\n",
       "      <th>1</th>\n",
       "      <td>MONSTER HUNTER: WORLD</td>\n",
       "      <td>https://store.steampowered.com/app/582010/MONS...</td>\n",
       "      <td>Action, Hunting, Co-op, Open World, Multiplaye...</td>\n",
       "      <td>https://steamcdn-a.akamaihd.net/steam/apps/582...</td>\n",
       "      <td>Welcome to a new world! In Monster Hunter: Wor...</td>\n",
       "      <td>55314</td>\n",
       "      <td>6.0</td>\n",
       "      <td>Aug 9, 2018</td>\n",
       "      <td>582010</td>\n",
       "    </tr>\n",
       "    <tr>\n",
       "      <th>2</th>\n",
       "      <td>Path of Exile</td>\n",
       "      <td>https://store.steampowered.com/app/238960/Path...</td>\n",
       "      <td>Free to Play, Action RPG, Hack and Slash, RPG,...</td>\n",
       "      <td>https://steamcdn-a.akamaihd.net/steam/apps/238...</td>\n",
       "      <td>You are an Exile, struggling to survive on the...</td>\n",
       "      <td>74977</td>\n",
       "      <td>9.0</td>\n",
       "      <td>Oct 23, 2013</td>\n",
       "      <td>238960</td>\n",
       "    </tr>\n",
       "    <tr>\n",
       "      <th>3</th>\n",
       "      <td>Insurgency: Sandstorm</td>\n",
       "      <td>https://store.steampowered.com/app/581320/Insu...</td>\n",
       "      <td>FPS, Realistic, Shooter, Multiplayer, Action, ...</td>\n",
       "      <td>https://steamcdn-a.akamaihd.net/steam/apps/581...</td>\n",
       "      <td>Insurgency: Sandstorm is a team-based, tactica...</td>\n",
       "      <td>9019</td>\n",
       "      <td>9.0</td>\n",
       "      <td>Dec 12, 2018</td>\n",
       "      <td>581320</td>\n",
       "    </tr>\n",
       "    <tr>\n",
       "      <th>4</th>\n",
       "      <td>Warframe</td>\n",
       "      <td>https://store.steampowered.com/app/230410/Warf...</td>\n",
       "      <td>Free to Play, Action, Co-op, Multiplayer, Thir...</td>\n",
       "      <td>https://steamcdn-a.akamaihd.net/steam/apps/230...</td>\n",
       "      <td>Warframe is a cooperative free-to-play third p...</td>\n",
       "      <td>236593</td>\n",
       "      <td>9.0</td>\n",
       "      <td>Mar 25, 2013</td>\n",
       "      <td>230410</td>\n",
       "    </tr>\n",
       "  </tbody>\n",
       "</table>\n",
       "</div>"
      ],
      "text/plain": [
       "                         game_title  \\\n",
       "0  Counter-Strike: Global Offensive   \n",
       "1             MONSTER HUNTER: WORLD   \n",
       "2                     Path of Exile   \n",
       "3             Insurgency: Sandstorm   \n",
       "4                          Warframe   \n",
       "\n",
       "                                           steam_url  \\\n",
       "0  https://store.steampowered.com/app/730/Counter...   \n",
       "1  https://store.steampowered.com/app/582010/MONS...   \n",
       "2  https://store.steampowered.com/app/238960/Path...   \n",
       "3  https://store.steampowered.com/app/581320/Insu...   \n",
       "4  https://store.steampowered.com/app/230410/Warf...   \n",
       "\n",
       "                                                tags  \\\n",
       "0  FPS, Multiplayer, Shooter, Action, Team-Based,...   \n",
       "1  Action, Hunting, Co-op, Open World, Multiplaye...   \n",
       "2  Free to Play, Action RPG, Hack and Slash, RPG,...   \n",
       "3  FPS, Realistic, Shooter, Multiplayer, Action, ...   \n",
       "4  Free to Play, Action, Co-op, Multiplayer, Thir...   \n",
       "\n",
       "                                               image  \\\n",
       "0  https://steamcdn-a.akamaihd.net/steam/apps/730...   \n",
       "1  https://steamcdn-a.akamaihd.net/steam/apps/582...   \n",
       "2  https://steamcdn-a.akamaihd.net/steam/apps/238...   \n",
       "3  https://steamcdn-a.akamaihd.net/steam/apps/581...   \n",
       "4  https://steamcdn-a.akamaihd.net/steam/apps/230...   \n",
       "\n",
       "                                         description number_of_review score  \\\n",
       "0  Counter-Strike: Global Offensive (CS: GO) expa...          2915091   9.0   \n",
       "1  Welcome to a new world! In Monster Hunter: Wor...            55314   6.0   \n",
       "2  You are an Exile, struggling to survive on the...            74977   9.0   \n",
       "3  Insurgency: Sandstorm is a team-based, tactica...             9019   9.0   \n",
       "4  Warframe is a cooperative free-to-play third p...           236593   9.0   \n",
       "\n",
       "   release_date   appid  \n",
       "0  Aug 21, 2012     730  \n",
       "1   Aug 9, 2018  582010  \n",
       "2  Oct 23, 2013  238960  \n",
       "3  Dec 12, 2018  581320  \n",
       "4  Mar 25, 2013  230410  "
      ]
     },
     "execution_count": 28,
     "metadata": {},
     "output_type": "execute_result"
    }
   ],
   "source": [
    "steam_games = pd.read_csv('steam_games_all_fields.csv', index_col=0, delimiter='\\t')\n",
    "app_id = steam_games['steam_url'].str.split('/',expand=True)\n",
    "app_id = app_id.drop([0, 1, 2, 5, 6], axis=1)\n",
    "app_id.columns = ['app', 'game_ID']\n",
    "steam_games_id = pd.concat([steam_games, app_id], axis=1, sort=False)\n",
    "steam_games_id = steam_games_id[~steam_games_id.app.str.contains('sub')]\n",
    "steam_games_id = steam_games_id[~steam_games_id.app.str.contains('digitalgiftcards')]\n",
    "steam_games_id = steam_games_id[~steam_games_id.tags.str.contains('no_tag')]\n",
    "steam_games_id = steam_games_id.drop(['app'], axis=1)\n",
    "steam_games_id['game_ID'] = pd.to_numeric(steam_games_id['game_ID'], downcast='signed')\n",
    "steam_games_id = steam_games_id.rename(columns={\"game_ID\": \"appid\"})\n",
    "steam_games_id = steam_games_id.drop_duplicates(subset='appid', keep='first')\n",
    "steam_games_id.head()"
   ]
  },
  {
   "cell_type": "code",
   "execution_count": 56,
   "metadata": {
    "ExecuteTime": {
     "end_time": "2019-01-06T07:30:35.057047Z",
     "start_time": "2019-01-06T07:30:34.281048Z"
    }
   },
   "outputs": [
    {
     "data": {
      "text/plain": [
       "(23618, 34164)"
      ]
     },
     "execution_count": 56,
     "metadata": {},
     "output_type": "execute_result"
    }
   ],
   "source": [
    "tfidf = TfidfVectorizer(stop_words='english')\n",
    "steam_games_id['description'] = steam_games_id['description'].fillna('')\n",
    "tfidf_matrix = tfidf.fit_transform(steam_games_id['description'])\n",
    "tfidf_matrix.shape"
   ]
  },
  {
   "cell_type": "code",
   "execution_count": 57,
   "metadata": {
    "ExecuteTime": {
     "end_time": "2019-01-06T07:30:50.935525Z",
     "start_time": "2019-01-06T07:30:41.731537Z"
    }
   },
   "outputs": [],
   "source": [
    "cosine_sim = linear_kernel(tfidf_matrix, tfidf_matrix)\n",
    "indices = pd.Series(steam_games_id.index, index=steam_games_id['game_title']).drop_duplicates()"
   ]
  },
  {
   "cell_type": "code",
   "execution_count": 61,
   "metadata": {
    "ExecuteTime": {
     "end_time": "2019-01-06T07:31:53.881200Z",
     "start_time": "2019-01-06T07:31:53.877197Z"
    }
   },
   "outputs": [],
   "source": [
    "def get_recommendations(title, cosine_sim=cosine_sim):\n",
    "    idx = indices[title]\n",
    "    sim_scores = list(enumerate(cosine_sim[idx]))\n",
    "    sim_scores = sorted(sim_scores, key=lambda x: x[1], reverse=True)\n",
    "    sim_scores = sim_scores[0:11]\n",
    "    game_indices = [i[0] for i in sim_scores]\n",
    "    return steam_games_id['game_title'].iloc[game_indices]"
   ]
  },
  {
   "cell_type": "code",
   "execution_count": 62,
   "metadata": {
    "ExecuteTime": {
     "end_time": "2019-01-06T07:31:55.106652Z",
     "start_time": "2019-01-06T07:31:55.092650Z"
    }
   },
   "outputs": [
    {
     "data": {
      "text/plain": [
       "2713                                        Fairy Fencer F\n",
       "1280     Fairy Fencer F Advent Dark Force | フェアリーフェンサー ...\n",
       "19870                     ❂ Hexaluga ❂ Weapon and Shield ☯\n",
       "7142                               Mosaic: Game of Gods II\n",
       "24233                         Dogs of War: Kill to Survive\n",
       "18736                                        Spirit of War\n",
       "9822                            The war god : The artifact\n",
       "4353                                           Lazy Galaxy\n",
       "14913                                            Legendary\n",
       "24644                              The first thrust of God\n",
       "25362                                  Destiny of a Wizard\n",
       "Name: game_title, dtype: object"
      ]
     },
     "execution_count": 62,
     "metadata": {},
     "output_type": "execute_result"
    }
   ],
   "source": [
    "get_recommendations('LEGO® Pirates of the Caribbean: The Video Game')"
   ]
  },
  {
   "cell_type": "code",
   "execution_count": 81,
   "metadata": {
    "ExecuteTime": {
     "end_time": "2019-01-06T07:39:38.048260Z",
     "start_time": "2019-01-06T07:39:38.043260Z"
    }
   },
   "outputs": [
    {
     "data": {
      "text/plain": [
       "2707"
      ]
     },
     "execution_count": 81,
     "metadata": {},
     "output_type": "execute_result"
    }
   ],
   "source": [
    "indices['LEGO® Pirates of the Caribbean: The Video Game']"
   ]
  },
  {
   "cell_type": "code",
   "execution_count": 84,
   "metadata": {
    "ExecuteTime": {
     "end_time": "2019-01-06T07:40:46.427530Z",
     "start_time": "2019-01-06T07:40:46.410529Z"
    }
   },
   "outputs": [
    {
     "name": "stdout",
     "output_type": "stream",
     "text": [
      "2707\n",
      "[(1275, 0.30309096866400742), (16874, 0.16705411239519358), (7128, 0.16550704601861713), (19950, 0.16341162476083398), (16041, 0.14962048365291203), (9514, 0.14846721213551767), (4346, 0.14585049640387257), (13271, 0.14506180592692092), (20256, 0.13321480489185236), (20893, 0.13202244789698267)]\n",
      "[1275, 16874, 7128, 19950, 16041, 9514, 4346, 13271, 20256, 20893]\n"
     ]
    },
    {
     "data": {
      "text/plain": [
       "1280     Fairy Fencer F Advent Dark Force | フェアリーフェンサー ...\n",
       "19870                     ❂ Hexaluga ❂ Weapon and Shield ☯\n",
       "7142                               Mosaic: Game of Gods II\n",
       "24233                         Dogs of War: Kill to Survive\n",
       "18736                                        Spirit of War\n",
       "9822                            The war god : The artifact\n",
       "4353                                           Lazy Galaxy\n",
       "14913                                            Legendary\n",
       "24644                              The first thrust of God\n",
       "25362                                  Destiny of a Wizard\n",
       "Name: game_title, dtype: object"
      ]
     },
     "execution_count": 84,
     "metadata": {},
     "output_type": "execute_result"
    }
   ],
   "source": [
    "idx = indices['LEGO® Pirates of the Caribbean: The Video Game']\n",
    "print(idx)\n",
    "sim_scores = list(enumerate(cosine_sim[idx]))\n",
    "#print(sim_scores)\n",
    "sim_scores = sorted(sim_scores, key=lambda x: x[1], reverse=True)\n",
    "#print(sim_scores)\n",
    "sim_scores = sim_scores[1:11]\n",
    "print(sim_scores)\n",
    "game_indices = [i[0] for i in sim_scores]\n",
    "print(game_indices)\n",
    "steam_games_id['game_title'].iloc[game_indices]"
   ]
  },
  {
   "cell_type": "code",
   "execution_count": 93,
   "metadata": {
    "ExecuteTime": {
     "end_time": "2019-01-06T07:47:10.751803Z",
     "start_time": "2019-01-06T07:47:10.741802Z"
    }
   },
   "outputs": [
    {
     "data": {
      "text/html": [
       "<div>\n",
       "<style scoped>\n",
       "    .dataframe tbody tr th:only-of-type {\n",
       "        vertical-align: middle;\n",
       "    }\n",
       "\n",
       "    .dataframe tbody tr th {\n",
       "        vertical-align: top;\n",
       "    }\n",
       "\n",
       "    .dataframe thead th {\n",
       "        text-align: right;\n",
       "    }\n",
       "</style>\n",
       "<table border=\"1\" class=\"dataframe\">\n",
       "  <thead>\n",
       "    <tr style=\"text-align: right;\">\n",
       "      <th></th>\n",
       "      <th>game_title</th>\n",
       "      <th>steam_url</th>\n",
       "      <th>tags</th>\n",
       "      <th>image</th>\n",
       "      <th>description</th>\n",
       "      <th>number_of_review</th>\n",
       "      <th>score</th>\n",
       "      <th>release_date</th>\n",
       "      <th>appid</th>\n",
       "    </tr>\n",
       "  </thead>\n",
       "  <tbody>\n",
       "    <tr>\n",
       "      <th>1280</th>\n",
       "      <td>Fairy Fencer F Advent Dark Force | フェアリーフェンサー ...</td>\n",
       "      <td>https://store.steampowered.com/app/524580/Fair...</td>\n",
       "      <td>Anime, RPG, JRPG, Adventure, Singleplayer, Nud...</td>\n",
       "      <td>https://steamcdn-a.akamaihd.net/steam/apps/524...</td>\n",
       "      <td>Long ago, a war raged between two powerful dei...</td>\n",
       "      <td>1619</td>\n",
       "      <td>9.0</td>\n",
       "      <td>Feb 14, 2017</td>\n",
       "      <td>524580</td>\n",
       "    </tr>\n",
       "  </tbody>\n",
       "</table>\n",
       "</div>"
      ],
      "text/plain": [
       "                                             game_title  \\\n",
       "1280  Fairy Fencer F Advent Dark Force | フェアリーフェンサー ...   \n",
       "\n",
       "                                              steam_url  \\\n",
       "1280  https://store.steampowered.com/app/524580/Fair...   \n",
       "\n",
       "                                                   tags  \\\n",
       "1280  Anime, RPG, JRPG, Adventure, Singleplayer, Nud...   \n",
       "\n",
       "                                                  image  \\\n",
       "1280  https://steamcdn-a.akamaihd.net/steam/apps/524...   \n",
       "\n",
       "                                            description number_of_review  \\\n",
       "1280  Long ago, a war raged between two powerful dei...             1619   \n",
       "\n",
       "     score  release_date   appid  \n",
       "1280   9.0  Feb 14, 2017  524580  "
      ]
     },
     "execution_count": 93,
     "metadata": {},
     "output_type": "execute_result"
    }
   ],
   "source": [
    "steam_games_id.iloc[[1275]]"
   ]
  },
  {
   "cell_type": "code",
   "execution_count": 87,
   "metadata": {
    "ExecuteTime": {
     "end_time": "2019-01-06T07:45:38.220288Z",
     "start_time": "2019-01-06T07:45:38.215288Z"
    }
   },
   "outputs": [
    {
     "data": {
      "text/plain": [
       "[1275, 16874, 7128, 19950, 16041, 9514, 4346, 13271, 20256, 20893]"
      ]
     },
     "execution_count": 87,
     "metadata": {},
     "output_type": "execute_result"
    }
   ],
   "source": [
    "game_indices\n",
    "\n"
   ]
  },
  {
   "cell_type": "code",
   "execution_count": 57,
   "metadata": {
    "ExecuteTime": {
     "end_time": "2018-12-31T04:00:34.708038Z",
     "start_time": "2018-12-31T03:57:05.177452Z"
    }
   },
   "outputs": [],
   "source": [
    "\n",
    "\n"
   ]
  },
  {
   "cell_type": "code",
   "execution_count": 74,
   "metadata": {
    "ExecuteTime": {
     "end_time": "2018-12-31T04:32:25.683488Z",
     "start_time": "2018-12-31T04:32:25.680489Z"
    }
   },
   "outputs": [],
   "source": [
    "def get_recommendations(title, cosine_sim=cosine_sim):\n",
    "    idx = indices[title]\n",
    "    sim_scores = list(enumerate(cosine_sim[idx]))\n",
    "    sim_scores = sorted(sim_scores, key=lambda x: x[1], reverse=True)\n",
    "    sim_scores = sim_scores[1:11]\n",
    "    game_indices = [i[0] for i in sim_scores]\n",
    "    return steam_games_id['title'].iloc[game_indices]"
   ]
  },
  {
   "cell_type": "code",
   "execution_count": 76,
   "metadata": {
    "ExecuteTime": {
     "end_time": "2018-12-31T04:43:55.503654Z",
     "start_time": "2018-12-31T04:43:55.477656Z"
    }
   },
   "outputs": [
    {
     "data": {
      "text/plain": [
       "844                             Megadimension Neptunia VII\n",
       "866      Hyperdimension Neptunia Re;Birth1 / 超次次元ゲイム ネプ...\n",
       "27       DRAGON QUEST® XI: Echoes of an Elusive Age™ - ...\n",
       "2025            BLUE REFLECTION / BLUE REFLECTION　幻に舞う少女の剣\n",
       "1165     Superdimension Neptune VS Sega Hard Girls | 超次...\n",
       "634        The Legend of Heroes: Trails in the Sky the 3rd\n",
       "1016     Hyperdimension Neptunia Re;Birth3 V Generation...\n",
       "1192     Hyperdimension Neptunia Re;Birth2: Sisters Gen...\n",
       "28198                      Serment - Contract with a Devil\n",
       "398             The Legend of Heroes: Trails in the Sky SC\n",
       "Name: title, dtype: object"
      ]
     },
     "execution_count": 76,
     "metadata": {},
     "output_type": "execute_result"
    }
   ],
   "source": [
    "get_recommendations('HITMAN™')"
   ]
  },
  {
   "cell_type": "code",
   "execution_count": null,
   "metadata": {},
   "outputs": [],
   "source": [
    "steam_games_id.to_csv('steam_games_final.csv', sep=\"\\t\")"
   ]
  },
  {
   "cell_type": "code",
   "execution_count": 14,
   "metadata": {
    "ExecuteTime": {
     "end_time": "2018-12-31T05:59:16.874248Z",
     "start_time": "2018-12-31T05:59:16.783249Z"
    }
   },
   "outputs": [],
   "source": [
    "indices = pd.Series(steam_games_id.index, index=steam_games_id['title']).drop_duplicates()"
   ]
  },
  {
   "cell_type": "code",
   "execution_count": 13,
   "metadata": {
    "ExecuteTime": {
     "end_time": "2018-12-31T05:56:50.409911Z",
     "start_time": "2018-12-31T05:55:41.032911Z"
    }
   },
   "outputs": [],
   "source": [
    "count = CountVectorizer(stop_words='english')\n",
    "count_matrix = count.fit_transform(steam_games_id['steam_tags'])\n",
    "cosine_sim = linear_kernel(count_matrix, count_matrix)"
   ]
  },
  {
   "cell_type": "code",
   "execution_count": 15,
   "metadata": {
    "ExecuteTime": {
     "end_time": "2018-12-31T05:59:31.385254Z",
     "start_time": "2018-12-31T05:59:31.378251Z"
    }
   },
   "outputs": [],
   "source": [
    "def get_recommendations(title, cosine_sim=cosine_sim):\n",
    "    idx = indices[title]\n",
    "    sim_scores = list(enumerate(cosine_sim[idx]))\n",
    "    sim_scores = sorted(sim_scores, key=lambda x: x[1], reverse=True)\n",
    "    sim_scores = sim_scores[1:11]\n",
    "    game_indices = [i[0] for i in sim_scores]\n",
    "    return steam_games_id['title'].iloc[game_indices]"
   ]
  },
  {
   "cell_type": "code",
   "execution_count": 16,
   "metadata": {
    "ExecuteTime": {
     "end_time": "2018-12-31T05:59:43.860248Z",
     "start_time": "2018-12-31T05:59:43.693251Z"
    }
   },
   "outputs": [
    {
     "data": {
      "text/plain": [
       "14414                                          Garden Tale\n",
       "1210                                        Troubleshooter\n",
       "2326                     Moekuri: Adorable + Tactical SRPG\n",
       "3345                                           Sproggiwood\n",
       "3717                   Robothorium: Sci-fi Dungeon Crawler\n",
       "4317                    FLAMBERGE ||| SIMULTANEOUS TACTICS\n",
       "956                             Disgaea PC / 魔界戦記ディスガイア PC\n",
       "1280     Fairy Fencer F Advent Dark Force | フェアリーフェンサー ...\n",
       "1804                                             EARTHLOCK\n",
       "2541                             Age of Fear 3: The Legend\n",
       "Name: title, dtype: object"
      ]
     },
     "execution_count": 16,
     "metadata": {},
     "output_type": "execute_result"
    }
   ],
   "source": [
    "get_recommendations('HITMAN™')"
   ]
  },
  {
   "cell_type": "code",
   "execution_count": null,
   "metadata": {},
   "outputs": [],
   "source": []
  }
 ],
 "metadata": {
  "kernelspec": {
   "display_name": "Python 3",
   "language": "python",
   "name": "python3"
  },
  "language_info": {
   "codemirror_mode": {
    "name": "ipython",
    "version": 3
   },
   "file_extension": ".py",
   "mimetype": "text/x-python",
   "name": "python",
   "nbconvert_exporter": "python",
   "pygments_lexer": "ipython3",
   "version": "3.7.0"
  }
 },
 "nbformat": 4,
 "nbformat_minor": 2
}
