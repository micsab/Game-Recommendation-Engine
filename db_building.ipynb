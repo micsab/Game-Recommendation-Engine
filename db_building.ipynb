{
 "cells": [
  {
   "cell_type": "code",
   "execution_count": 12,
   "metadata": {
    "ExecuteTime": {
     "end_time": "2018-12-31T05:55:37.589916Z",
     "start_time": "2018-12-31T05:55:37.562914Z"
    }
   },
   "outputs": [],
   "source": [
    "import pandas as pd\n",
    "import numpy as np\n",
    "from sklearn.feature_extraction.text import CountVectorizer\n",
    "from sklearn.metrics.pairwise import linear_kernel"
   ]
  },
  {
   "cell_type": "code",
   "execution_count": 2,
   "metadata": {
    "ExecuteTime": {
     "end_time": "2018-12-31T05:54:45.811733Z",
     "start_time": "2018-12-31T05:54:45.667735Z"
    }
   },
   "outputs": [],
   "source": [
    "steam_games = pd.read_csv('steam_tags_with_pics_v2.csv', delimiter='\\t')\n",
    "steam_games = steam_games.drop(['Unnamed: 0'], axis=1)"
   ]
  },
  {
   "cell_type": "code",
   "execution_count": 3,
   "metadata": {
    "ExecuteTime": {
     "end_time": "2018-12-31T05:54:46.764371Z",
     "start_time": "2018-12-31T05:54:46.703376Z"
    }
   },
   "outputs": [],
   "source": [
    "app_id = steam_games['steam_url'].str.split('/',expand=True)\n",
    "app_id = app_id.drop([0, 1, 2, 5, 6], axis=1)\n",
    "app_id.columns = ['app', 'game_ID']\n",
    "#app_id_final = app_id_2[app_id_2[4]] "
   ]
  },
  {
   "cell_type": "code",
   "execution_count": 4,
   "metadata": {
    "ExecuteTime": {
     "end_time": "2018-12-31T05:54:48.160916Z",
     "start_time": "2018-12-31T05:54:48.154915Z"
    }
   },
   "outputs": [],
   "source": [
    "steam_games_id = pd.concat([steam_games, app_id], axis=1, sort=False)"
   ]
  },
  {
   "cell_type": "code",
   "execution_count": 5,
   "metadata": {
    "ExecuteTime": {
     "end_time": "2018-12-31T05:54:48.597913Z",
     "start_time": "2018-12-31T05:54:48.579913Z"
    }
   },
   "outputs": [
    {
     "data": {
      "text/html": [
       "<div>\n",
       "<style scoped>\n",
       "    .dataframe tbody tr th:only-of-type {\n",
       "        vertical-align: middle;\n",
       "    }\n",
       "\n",
       "    .dataframe tbody tr th {\n",
       "        vertical-align: top;\n",
       "    }\n",
       "\n",
       "    .dataframe thead th {\n",
       "        text-align: right;\n",
       "    }\n",
       "</style>\n",
       "<table border=\"1\" class=\"dataframe\">\n",
       "  <thead>\n",
       "    <tr style=\"text-align: right;\">\n",
       "      <th></th>\n",
       "      <th>title</th>\n",
       "      <th>steam_url</th>\n",
       "      <th>game_image</th>\n",
       "      <th>steam_tags</th>\n",
       "      <th>app</th>\n",
       "      <th>game_ID</th>\n",
       "    </tr>\n",
       "  </thead>\n",
       "  <tbody>\n",
       "    <tr>\n",
       "      <th>0</th>\n",
       "      <td>Counter-Strike: Global Offensive</td>\n",
       "      <td>https://store.steampowered.com/app/730/Counter...</td>\n",
       "      <td>https://steamcdn-a.akamaihd.net/steam/apps/730...</td>\n",
       "      <td>FPS, Multiplayer, Shooter, Action, Team-Based,...</td>\n",
       "      <td>app</td>\n",
       "      <td>730</td>\n",
       "    </tr>\n",
       "    <tr>\n",
       "      <th>1</th>\n",
       "      <td>MONSTER HUNTER: WORLD</td>\n",
       "      <td>https://store.steampowered.com/app/582010/MONS...</td>\n",
       "      <td>https://steamcdn-a.akamaihd.net/steam/apps/582...</td>\n",
       "      <td>Action, Hunting, Co-op, Multiplayer, Open Worl...</td>\n",
       "      <td>app</td>\n",
       "      <td>582010</td>\n",
       "    </tr>\n",
       "    <tr>\n",
       "      <th>2</th>\n",
       "      <td>Path of Exile</td>\n",
       "      <td>https://store.steampowered.com/app/238960/Path...</td>\n",
       "      <td>https://steamcdn-a.akamaihd.net/steam/apps/238...</td>\n",
       "      <td>Free to Play, Action RPG, RPG, Hack and Slash,...</td>\n",
       "      <td>app</td>\n",
       "      <td>238960</td>\n",
       "    </tr>\n",
       "    <tr>\n",
       "      <th>3</th>\n",
       "      <td>Insurgency: Sandstorm</td>\n",
       "      <td>https://store.steampowered.com/app/581320/Insu...</td>\n",
       "      <td>https://steamcdn-a.akamaihd.net/steam/apps/581...</td>\n",
       "      <td>FPS, Realistic, Action, Shooter, Multiplayer, ...</td>\n",
       "      <td>app</td>\n",
       "      <td>581320</td>\n",
       "    </tr>\n",
       "    <tr>\n",
       "      <th>4</th>\n",
       "      <td>Warframe</td>\n",
       "      <td>https://store.steampowered.com/app/230410/Warf...</td>\n",
       "      <td>https://steamcdn-a.akamaihd.net/steam/apps/230...</td>\n",
       "      <td>Free to Play, Action, Co-op, Multiplayer, Thir...</td>\n",
       "      <td>app</td>\n",
       "      <td>230410</td>\n",
       "    </tr>\n",
       "  </tbody>\n",
       "</table>\n",
       "</div>"
      ],
      "text/plain": [
       "                              title  \\\n",
       "0  Counter-Strike: Global Offensive   \n",
       "1             MONSTER HUNTER: WORLD   \n",
       "2                     Path of Exile   \n",
       "3             Insurgency: Sandstorm   \n",
       "4                          Warframe   \n",
       "\n",
       "                                           steam_url  \\\n",
       "0  https://store.steampowered.com/app/730/Counter...   \n",
       "1  https://store.steampowered.com/app/582010/MONS...   \n",
       "2  https://store.steampowered.com/app/238960/Path...   \n",
       "3  https://store.steampowered.com/app/581320/Insu...   \n",
       "4  https://store.steampowered.com/app/230410/Warf...   \n",
       "\n",
       "                                          game_image  \\\n",
       "0  https://steamcdn-a.akamaihd.net/steam/apps/730...   \n",
       "1  https://steamcdn-a.akamaihd.net/steam/apps/582...   \n",
       "2  https://steamcdn-a.akamaihd.net/steam/apps/238...   \n",
       "3  https://steamcdn-a.akamaihd.net/steam/apps/581...   \n",
       "4  https://steamcdn-a.akamaihd.net/steam/apps/230...   \n",
       "\n",
       "                                          steam_tags  app game_ID  \n",
       "0  FPS, Multiplayer, Shooter, Action, Team-Based,...  app     730  \n",
       "1  Action, Hunting, Co-op, Multiplayer, Open Worl...  app  582010  \n",
       "2  Free to Play, Action RPG, RPG, Hack and Slash,...  app  238960  \n",
       "3  FPS, Realistic, Action, Shooter, Multiplayer, ...  app  581320  \n",
       "4  Free to Play, Action, Co-op, Multiplayer, Thir...  app  230410  "
      ]
     },
     "execution_count": 5,
     "metadata": {},
     "output_type": "execute_result"
    }
   ],
   "source": [
    "steam_games_id.head()"
   ]
  },
  {
   "cell_type": "code",
   "execution_count": 6,
   "metadata": {
    "ExecuteTime": {
     "end_time": "2018-12-31T05:54:49.609911Z",
     "start_time": "2018-12-31T05:54:49.539912Z"
    }
   },
   "outputs": [],
   "source": [
    "steam_games_id = steam_games_id[~steam_games_id.app.str.contains('sub')]\n",
    "steam_games_id = steam_games_id[~steam_games_id.app.str.contains('digitalgiftcards')]\n",
    "steam_games_id = steam_games_id[~steam_games_id.steam_tags.str.contains('no_tag')]\n",
    "steam_games_id = steam_games_id.drop(['app'], axis=1)"
   ]
  },
  {
   "cell_type": "code",
   "execution_count": 7,
   "metadata": {
    "ExecuteTime": {
     "end_time": "2018-12-31T05:54:50.005913Z",
     "start_time": "2018-12-31T05:54:49.945912Z"
    }
   },
   "outputs": [],
   "source": [
    "steam_games_id['game_ID'] = pd.to_numeric(steam_games_id['game_ID'], downcast='signed')"
   ]
  },
  {
   "cell_type": "code",
   "execution_count": 8,
   "metadata": {
    "ExecuteTime": {
     "end_time": "2018-12-31T05:54:50.754913Z",
     "start_time": "2018-12-31T05:54:50.748915Z"
    }
   },
   "outputs": [
    {
     "data": {
      "text/plain": [
       "title         object\n",
       "steam_url     object\n",
       "game_image    object\n",
       "steam_tags    object\n",
       "game_ID        int32\n",
       "dtype: object"
      ]
     },
     "execution_count": 8,
     "metadata": {},
     "output_type": "execute_result"
    }
   ],
   "source": [
    "steam_games_id.dtypes"
   ]
  },
  {
   "cell_type": "code",
   "execution_count": 9,
   "metadata": {
    "ExecuteTime": {
     "end_time": "2018-12-31T05:54:52.372914Z",
     "start_time": "2018-12-31T05:54:52.357912Z"
    }
   },
   "outputs": [
    {
     "data": {
      "text/html": [
       "<div>\n",
       "<style scoped>\n",
       "    .dataframe tbody tr th:only-of-type {\n",
       "        vertical-align: middle;\n",
       "    }\n",
       "\n",
       "    .dataframe tbody tr th {\n",
       "        vertical-align: top;\n",
       "    }\n",
       "\n",
       "    .dataframe thead th {\n",
       "        text-align: right;\n",
       "    }\n",
       "</style>\n",
       "<table border=\"1\" class=\"dataframe\">\n",
       "  <thead>\n",
       "    <tr style=\"text-align: right;\">\n",
       "      <th></th>\n",
       "      <th>title</th>\n",
       "      <th>steam_url</th>\n",
       "      <th>game_image</th>\n",
       "      <th>steam_tags</th>\n",
       "      <th>appid</th>\n",
       "    </tr>\n",
       "  </thead>\n",
       "  <tbody>\n",
       "    <tr>\n",
       "      <th>0</th>\n",
       "      <td>Counter-Strike: Global Offensive</td>\n",
       "      <td>https://store.steampowered.com/app/730/Counter...</td>\n",
       "      <td>https://steamcdn-a.akamaihd.net/steam/apps/730...</td>\n",
       "      <td>FPS, Multiplayer, Shooter, Action, Team-Based,...</td>\n",
       "      <td>730</td>\n",
       "    </tr>\n",
       "    <tr>\n",
       "      <th>1</th>\n",
       "      <td>MONSTER HUNTER: WORLD</td>\n",
       "      <td>https://store.steampowered.com/app/582010/MONS...</td>\n",
       "      <td>https://steamcdn-a.akamaihd.net/steam/apps/582...</td>\n",
       "      <td>Action, Hunting, Co-op, Multiplayer, Open Worl...</td>\n",
       "      <td>582010</td>\n",
       "    </tr>\n",
       "    <tr>\n",
       "      <th>2</th>\n",
       "      <td>Path of Exile</td>\n",
       "      <td>https://store.steampowered.com/app/238960/Path...</td>\n",
       "      <td>https://steamcdn-a.akamaihd.net/steam/apps/238...</td>\n",
       "      <td>Free to Play, Action RPG, RPG, Hack and Slash,...</td>\n",
       "      <td>238960</td>\n",
       "    </tr>\n",
       "    <tr>\n",
       "      <th>3</th>\n",
       "      <td>Insurgency: Sandstorm</td>\n",
       "      <td>https://store.steampowered.com/app/581320/Insu...</td>\n",
       "      <td>https://steamcdn-a.akamaihd.net/steam/apps/581...</td>\n",
       "      <td>FPS, Realistic, Action, Shooter, Multiplayer, ...</td>\n",
       "      <td>581320</td>\n",
       "    </tr>\n",
       "    <tr>\n",
       "      <th>4</th>\n",
       "      <td>Warframe</td>\n",
       "      <td>https://store.steampowered.com/app/230410/Warf...</td>\n",
       "      <td>https://steamcdn-a.akamaihd.net/steam/apps/230...</td>\n",
       "      <td>Free to Play, Action, Co-op, Multiplayer, Thir...</td>\n",
       "      <td>230410</td>\n",
       "    </tr>\n",
       "  </tbody>\n",
       "</table>\n",
       "</div>"
      ],
      "text/plain": [
       "                              title  \\\n",
       "0  Counter-Strike: Global Offensive   \n",
       "1             MONSTER HUNTER: WORLD   \n",
       "2                     Path of Exile   \n",
       "3             Insurgency: Sandstorm   \n",
       "4                          Warframe   \n",
       "\n",
       "                                           steam_url  \\\n",
       "0  https://store.steampowered.com/app/730/Counter...   \n",
       "1  https://store.steampowered.com/app/582010/MONS...   \n",
       "2  https://store.steampowered.com/app/238960/Path...   \n",
       "3  https://store.steampowered.com/app/581320/Insu...   \n",
       "4  https://store.steampowered.com/app/230410/Warf...   \n",
       "\n",
       "                                          game_image  \\\n",
       "0  https://steamcdn-a.akamaihd.net/steam/apps/730...   \n",
       "1  https://steamcdn-a.akamaihd.net/steam/apps/582...   \n",
       "2  https://steamcdn-a.akamaihd.net/steam/apps/238...   \n",
       "3  https://steamcdn-a.akamaihd.net/steam/apps/581...   \n",
       "4  https://steamcdn-a.akamaihd.net/steam/apps/230...   \n",
       "\n",
       "                                          steam_tags   appid  \n",
       "0  FPS, Multiplayer, Shooter, Action, Team-Based,...     730  \n",
       "1  Action, Hunting, Co-op, Multiplayer, Open Worl...  582010  \n",
       "2  Free to Play, Action RPG, RPG, Hack and Slash,...  238960  \n",
       "3  FPS, Realistic, Action, Shooter, Multiplayer, ...  581320  \n",
       "4  Free to Play, Action, Co-op, Multiplayer, Thir...  230410  "
      ]
     },
     "execution_count": 9,
     "metadata": {},
     "output_type": "execute_result"
    }
   ],
   "source": [
    "steam_games_id=steam_games_id.rename(columns={\"game_ID\": \"appid\"})\n",
    "steam_games_id.head()"
   ]
  },
  {
   "cell_type": "code",
   "execution_count": 55,
   "metadata": {
    "ExecuteTime": {
     "end_time": "2018-12-31T03:45:06.739767Z",
     "start_time": "2018-12-31T03:45:06.486769Z"
    }
   },
   "outputs": [
    {
     "data": {
      "text/plain": [
       "(29274, 384)"
      ]
     },
     "execution_count": 55,
     "metadata": {},
     "output_type": "execute_result"
    }
   ],
   "source": [
    "from sklearn.feature_extraction.text import TfidfVectorizer\n",
    "\n",
    "tfidf = TfidfVectorizer(stop_words='english')\n",
    "tfidf_matrix = tfidf.fit_transform(steam_games_id['steam_tags'])\n",
    "tfidf_matrix.shape"
   ]
  },
  {
   "cell_type": "code",
   "execution_count": 57,
   "metadata": {
    "ExecuteTime": {
     "end_time": "2018-12-31T04:00:34.708038Z",
     "start_time": "2018-12-31T03:57:05.177452Z"
    }
   },
   "outputs": [],
   "source": [
    "\n",
    "\n",
    "cosine_sim = linear_kernel(tfidf_matrix, tfidf_matrix)\n",
    "indices = pd.Series(steam_games_id.index, index=steam_games_id['title']).drop_duplicates()"
   ]
  },
  {
   "cell_type": "code",
   "execution_count": 74,
   "metadata": {
    "ExecuteTime": {
     "end_time": "2018-12-31T04:32:25.683488Z",
     "start_time": "2018-12-31T04:32:25.680489Z"
    }
   },
   "outputs": [],
   "source": [
    "def get_recommendations(title, cosine_sim=cosine_sim):\n",
    "    idx = indices[title]\n",
    "    sim_scores = list(enumerate(cosine_sim[idx]))\n",
    "    sim_scores = sorted(sim_scores, key=lambda x: x[1], reverse=True)\n",
    "    sim_scores = sim_scores[1:11]\n",
    "    game_indices = [i[0] for i in sim_scores]\n",
    "    return steam_games_id['title'].iloc[game_indices]"
   ]
  },
  {
   "cell_type": "code",
   "execution_count": 76,
   "metadata": {
    "ExecuteTime": {
     "end_time": "2018-12-31T04:43:55.503654Z",
     "start_time": "2018-12-31T04:43:55.477656Z"
    }
   },
   "outputs": [
    {
     "data": {
      "text/plain": [
       "844                             Megadimension Neptunia VII\n",
       "866      Hyperdimension Neptunia Re;Birth1 / 超次次元ゲイム ネプ...\n",
       "27       DRAGON QUEST® XI: Echoes of an Elusive Age™ - ...\n",
       "2025            BLUE REFLECTION / BLUE REFLECTION　幻に舞う少女の剣\n",
       "1165     Superdimension Neptune VS Sega Hard Girls | 超次...\n",
       "634        The Legend of Heroes: Trails in the Sky the 3rd\n",
       "1016     Hyperdimension Neptunia Re;Birth3 V Generation...\n",
       "1192     Hyperdimension Neptunia Re;Birth2: Sisters Gen...\n",
       "28198                      Serment - Contract with a Devil\n",
       "398             The Legend of Heroes: Trails in the Sky SC\n",
       "Name: title, dtype: object"
      ]
     },
     "execution_count": 76,
     "metadata": {},
     "output_type": "execute_result"
    }
   ],
   "source": [
    "get_recommendations('HITMAN™')"
   ]
  },
  {
   "cell_type": "code",
   "execution_count": null,
   "metadata": {},
   "outputs": [],
   "source": [
    "steam_games_id.to_csv('steam_games_final.csv', sep=\"\\t\")"
   ]
  },
  {
   "cell_type": "code",
   "execution_count": 14,
   "metadata": {
    "ExecuteTime": {
     "end_time": "2018-12-31T05:59:16.874248Z",
     "start_time": "2018-12-31T05:59:16.783249Z"
    }
   },
   "outputs": [],
   "source": [
    "indices = pd.Series(steam_games_id.index, index=steam_games_id['title']).drop_duplicates()"
   ]
  },
  {
   "cell_type": "code",
   "execution_count": 13,
   "metadata": {
    "ExecuteTime": {
     "end_time": "2018-12-31T05:56:50.409911Z",
     "start_time": "2018-12-31T05:55:41.032911Z"
    }
   },
   "outputs": [],
   "source": [
    "count = CountVectorizer(stop_words='english')\n",
    "count_matrix = count.fit_transform(steam_games_id['steam_tags'])\n",
    "cosine_sim = linear_kernel(count_matrix, count_matrix)"
   ]
  },
  {
   "cell_type": "code",
   "execution_count": 15,
   "metadata": {
    "ExecuteTime": {
     "end_time": "2018-12-31T05:59:31.385254Z",
     "start_time": "2018-12-31T05:59:31.378251Z"
    }
   },
   "outputs": [],
   "source": [
    "def get_recommendations(title, cosine_sim=cosine_sim):\n",
    "    idx = indices[title]\n",
    "    sim_scores = list(enumerate(cosine_sim[idx]))\n",
    "    sim_scores = sorted(sim_scores, key=lambda x: x[1], reverse=True)\n",
    "    sim_scores = sim_scores[1:11]\n",
    "    game_indices = [i[0] for i in sim_scores]\n",
    "    return steam_games_id['title'].iloc[game_indices]"
   ]
  },
  {
   "cell_type": "code",
   "execution_count": 16,
   "metadata": {
    "ExecuteTime": {
     "end_time": "2018-12-31T05:59:43.860248Z",
     "start_time": "2018-12-31T05:59:43.693251Z"
    }
   },
   "outputs": [
    {
     "data": {
      "text/plain": [
       "14414                                          Garden Tale\n",
       "1210                                        Troubleshooter\n",
       "2326                     Moekuri: Adorable + Tactical SRPG\n",
       "3345                                           Sproggiwood\n",
       "3717                   Robothorium: Sci-fi Dungeon Crawler\n",
       "4317                    FLAMBERGE ||| SIMULTANEOUS TACTICS\n",
       "956                             Disgaea PC / 魔界戦記ディスガイア PC\n",
       "1280     Fairy Fencer F Advent Dark Force | フェアリーフェンサー ...\n",
       "1804                                             EARTHLOCK\n",
       "2541                             Age of Fear 3: The Legend\n",
       "Name: title, dtype: object"
      ]
     },
     "execution_count": 16,
     "metadata": {},
     "output_type": "execute_result"
    }
   ],
   "source": [
    "get_recommendations('HITMAN™')"
   ]
  },
  {
   "cell_type": "code",
   "execution_count": null,
   "metadata": {},
   "outputs": [],
   "source": []
  }
 ],
 "metadata": {
  "kernelspec": {
   "display_name": "Python 3",
   "language": "python",
   "name": "python3"
  },
  "language_info": {
   "codemirror_mode": {
    "name": "ipython",
    "version": 3
   },
   "file_extension": ".py",
   "mimetype": "text/x-python",
   "name": "python",
   "nbconvert_exporter": "python",
   "pygments_lexer": "ipython3",
   "version": "3.7.0"
  }
 },
 "nbformat": 4,
 "nbformat_minor": 2
}
