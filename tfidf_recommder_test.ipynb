{
 "cells": [
  {
   "cell_type": "code",
   "execution_count": 41,
   "metadata": {
    "ExecuteTime": {
     "end_time": "2019-01-06T23:52:26.948526Z",
     "start_time": "2019-01-06T23:52:26.944529Z"
    }
   },
   "outputs": [],
   "source": [
    "import pandas as pd\n",
    "import numpy as np\n",
    "from sklearn.feature_extraction.text import TfidfVectorizer\n",
    "from sklearn.metrics.pairwise import linear_kernel"
   ]
  },
  {
   "cell_type": "code",
   "execution_count": 228,
   "metadata": {
    "ExecuteTime": {
     "end_time": "2019-01-07T08:23:26.725763Z",
     "start_time": "2019-01-07T08:23:26.344084Z"
    }
   },
   "outputs": [
    {
     "data": {
      "text/html": [
       "<div>\n",
       "<style scoped>\n",
       "    .dataframe tbody tr th:only-of-type {\n",
       "        vertical-align: middle;\n",
       "    }\n",
       "\n",
       "    .dataframe tbody tr th {\n",
       "        vertical-align: top;\n",
       "    }\n",
       "\n",
       "    .dataframe thead th {\n",
       "        text-align: right;\n",
       "    }\n",
       "</style>\n",
       "<table border=\"1\" class=\"dataframe\">\n",
       "  <thead>\n",
       "    <tr style=\"text-align: right;\">\n",
       "      <th></th>\n",
       "      <th>game_title</th>\n",
       "      <th>id</th>\n",
       "      <th>steam_url</th>\n",
       "      <th>tags</th>\n",
       "      <th>image</th>\n",
       "      <th>description</th>\n",
       "      <th>number_of_review</th>\n",
       "      <th>score</th>\n",
       "      <th>release_date</th>\n",
       "      <th>appid</th>\n",
       "    </tr>\n",
       "  </thead>\n",
       "  <tbody>\n",
       "    <tr>\n",
       "      <th>0</th>\n",
       "      <td>Counter-Strike: Global Offensive</td>\n",
       "      <td>0</td>\n",
       "      <td>https://store.steampowered.com/app/730/Counter...</td>\n",
       "      <td>FPS, Multiplayer, Shooter, Action, Team-Based,...</td>\n",
       "      <td>https://steamcdn-a.akamaihd.net/steam/apps/730...</td>\n",
       "      <td>Counter-Strike: Global Offensive (CS: GO) expa...</td>\n",
       "      <td>2915091.0</td>\n",
       "      <td>9.0</td>\n",
       "      <td>Aug 21, 2012</td>\n",
       "      <td>730</td>\n",
       "    </tr>\n",
       "    <tr>\n",
       "      <th>1</th>\n",
       "      <td>Path of Exile</td>\n",
       "      <td>2</td>\n",
       "      <td>https://store.steampowered.com/app/238960/Path...</td>\n",
       "      <td>Free to Play, Action RPG, Hack and Slash, RPG,...</td>\n",
       "      <td>https://steamcdn-a.akamaihd.net/steam/apps/238...</td>\n",
       "      <td>You are an Exile, struggling to survive on the...</td>\n",
       "      <td>74977.0</td>\n",
       "      <td>9.0</td>\n",
       "      <td>Oct 23, 2013</td>\n",
       "      <td>238960</td>\n",
       "    </tr>\n",
       "    <tr>\n",
       "      <th>2</th>\n",
       "      <td>Insurgency: Sandstorm</td>\n",
       "      <td>3</td>\n",
       "      <td>https://store.steampowered.com/app/581320/Insu...</td>\n",
       "      <td>FPS, Realistic, Shooter, Multiplayer, Action, ...</td>\n",
       "      <td>https://steamcdn-a.akamaihd.net/steam/apps/581...</td>\n",
       "      <td>Insurgency: Sandstorm is a team-based, tactica...</td>\n",
       "      <td>9019.0</td>\n",
       "      <td>9.0</td>\n",
       "      <td>Dec 12, 2018</td>\n",
       "      <td>581320</td>\n",
       "    </tr>\n",
       "    <tr>\n",
       "      <th>3</th>\n",
       "      <td>Warframe</td>\n",
       "      <td>4</td>\n",
       "      <td>https://store.steampowered.com/app/230410/Warf...</td>\n",
       "      <td>Free to Play, Action, Co-op, Multiplayer, Thir...</td>\n",
       "      <td>https://steamcdn-a.akamaihd.net/steam/apps/230...</td>\n",
       "      <td>Warframe is a cooperative free-to-play third p...</td>\n",
       "      <td>236593.0</td>\n",
       "      <td>9.0</td>\n",
       "      <td>Mar 25, 2013</td>\n",
       "      <td>230410</td>\n",
       "    </tr>\n",
       "    <tr>\n",
       "      <th>4</th>\n",
       "      <td>Divinity: Original Sin 2 - Definitive Edition</td>\n",
       "      <td>5</td>\n",
       "      <td>https://store.steampowered.com/app/435150/Divi...</td>\n",
       "      <td>RPG, Turn-Based, Co-op, Story Rich, Fantasy, O...</td>\n",
       "      <td>https://steamcdn-a.akamaihd.net/steam/apps/435...</td>\n",
       "      <td>The eagerly anticipated sequel to the award-wi...</td>\n",
       "      <td>37446.0</td>\n",
       "      <td>9.0</td>\n",
       "      <td>Sep 14, 2017</td>\n",
       "      <td>435150</td>\n",
       "    </tr>\n",
       "  </tbody>\n",
       "</table>\n",
       "</div>"
      ],
      "text/plain": [
       "                                      game_title  id  \\\n",
       "0               Counter-Strike: Global Offensive   0   \n",
       "1                                  Path of Exile   2   \n",
       "2                          Insurgency: Sandstorm   3   \n",
       "3                                       Warframe   4   \n",
       "4  Divinity: Original Sin 2 - Definitive Edition   5   \n",
       "\n",
       "                                           steam_url  \\\n",
       "0  https://store.steampowered.com/app/730/Counter...   \n",
       "1  https://store.steampowered.com/app/238960/Path...   \n",
       "2  https://store.steampowered.com/app/581320/Insu...   \n",
       "3  https://store.steampowered.com/app/230410/Warf...   \n",
       "4  https://store.steampowered.com/app/435150/Divi...   \n",
       "\n",
       "                                                tags  \\\n",
       "0  FPS, Multiplayer, Shooter, Action, Team-Based,...   \n",
       "1  Free to Play, Action RPG, Hack and Slash, RPG,...   \n",
       "2  FPS, Realistic, Shooter, Multiplayer, Action, ...   \n",
       "3  Free to Play, Action, Co-op, Multiplayer, Thir...   \n",
       "4  RPG, Turn-Based, Co-op, Story Rich, Fantasy, O...   \n",
       "\n",
       "                                               image  \\\n",
       "0  https://steamcdn-a.akamaihd.net/steam/apps/730...   \n",
       "1  https://steamcdn-a.akamaihd.net/steam/apps/238...   \n",
       "2  https://steamcdn-a.akamaihd.net/steam/apps/581...   \n",
       "3  https://steamcdn-a.akamaihd.net/steam/apps/230...   \n",
       "4  https://steamcdn-a.akamaihd.net/steam/apps/435...   \n",
       "\n",
       "                                         description  number_of_review  score  \\\n",
       "0  Counter-Strike: Global Offensive (CS: GO) expa...         2915091.0    9.0   \n",
       "1  You are an Exile, struggling to survive on the...           74977.0    9.0   \n",
       "2  Insurgency: Sandstorm is a team-based, tactica...            9019.0    9.0   \n",
       "3  Warframe is a cooperative free-to-play third p...          236593.0    9.0   \n",
       "4  The eagerly anticipated sequel to the award-wi...           37446.0    9.0   \n",
       "\n",
       "   release_date   appid  \n",
       "0  Aug 21, 2012     730  \n",
       "1  Oct 23, 2013  238960  \n",
       "2  Dec 12, 2018  581320  \n",
       "3  Mar 25, 2013  230410  \n",
       "4  Sep 14, 2017  435150  "
      ]
     },
     "execution_count": 228,
     "metadata": {},
     "output_type": "execute_result"
    }
   ],
   "source": [
    "steam_games = pd.read_csv('steam_games_all_fields.csv', index_col=1, delimiter='\\t')\n",
    "app_id = steam_games['steam_url'].str.split('/',expand=True)\n",
    "app_id = app_id.drop([0, 1, 2, 5, 6], axis=1)\n",
    "app_id.columns = ['app', 'game_ID']\n",
    "df = pd.concat([steam_games, app_id], axis=1, sort=False)\n",
    "df['description'] = df['description'].fillna('')\n",
    "df = df[~df.description.str.contains('no description')]\n",
    "#df = df[~df.app.str.contains('sub')]\n",
    "#df = df[~df.app.str.contains('digitalgiftcards')]\n",
    "#df = df[~df.tags.str.contains('no_tag')]\n",
    "#df = df[~df.score.str.contains('no rating')]\n",
    "df = df.drop(['app'], axis=1)\n",
    "df['game_ID'] = pd.to_numeric(df['game_ID'], downcast='signed')\n",
    "df['number_of_review'] = df['number_of_review'].replace({'no reviews' : ''})\n",
    "df['number_of_review'] = pd.to_numeric(df['number_of_review'], downcast='integer')\n",
    "df['score'] = df['score'].replace({'no rating' : ''})\n",
    "df['score'] = pd.to_numeric(df['score'])\n",
    "df = df[df['score'] > 8.0]\n",
    "df = df.rename(columns={\"game_ID\": \"appid\"})\n",
    "df = df.rename(columns={\"Unnamed: 0\": \"id\"})\n",
    "df = df.drop_duplicates(subset='appid', keep='first')\n",
    "df = df.reset_index()\n",
    "df.head()"
   ]
  },
  {
   "cell_type": "code",
   "execution_count": null,
   "metadata": {
    "ExecuteTime": {
     "end_time": "2019-01-07T08:14:56.145073Z",
     "start_time": "2019-01-07T08:14:56.124073Z"
    }
   },
   "outputs": [],
   "source": []
  },
  {
   "cell_type": "code",
   "execution_count": 229,
   "metadata": {
    "ExecuteTime": {
     "end_time": "2019-01-07T08:23:45.233342Z",
     "start_time": "2019-01-07T08:23:44.224347Z"
    }
   },
   "outputs": [],
   "source": [
    "ds = df[['id' ,'appid', 'game_title', 'tags', 'description']]\n",
    "tf = TfidfVectorizer(analyzer='word', ngram_range=(1, 3), min_df=0, stop_words='english')\n",
    "tfidf_matrix = tf.fit_transform(ds['description'])"
   ]
  },
  {
   "cell_type": "code",
   "execution_count": 230,
   "metadata": {
    "ExecuteTime": {
     "end_time": "2019-01-07T08:23:53.022345Z",
     "start_time": "2019-01-07T08:23:52.450344Z"
    }
   },
   "outputs": [],
   "source": [
    "cosine_similarities = linear_kernel(tfidf_matrix, tfidf_matrix)"
   ]
  },
  {
   "cell_type": "code",
   "execution_count": 233,
   "metadata": {
    "ExecuteTime": {
     "end_time": "2019-01-07T08:24:18.545135Z",
     "start_time": "2019-01-07T08:24:14.391992Z"
    }
   },
   "outputs": [
    {
     "name": "stdout",
     "output_type": "stream",
     "text": [
      "done!\n"
     ]
    }
   ],
   "source": [
    "results = {}\n",
    "\n",
    "for idx, row in ds.iterrows():\n",
    "    similar_indices = cosine_similarities[idx].argsort()[:-100:-1]\n",
    "    similar_items = [(cosine_similarities[idx][i], ds['id'][i]) for i in similar_indices]\n",
    "\n",
    "    # First item is the item itself, so remove it.\n",
    "    # Each dictionary entry is like: [(1,2), (3,4)], with each tuple being (score, item_id)\n",
    "    results[row['id']] = similar_items[1:]\n",
    "    \n",
    "print('done!')"
   ]
  },
  {
   "cell_type": "code",
   "execution_count": 235,
   "metadata": {
    "ExecuteTime": {
     "end_time": "2019-01-07T08:24:32.992898Z",
     "start_time": "2019-01-07T08:24:32.980901Z"
    }
   },
   "outputs": [
    {
     "name": "stdout",
     "output_type": "stream",
     "text": [
      "Recommending 10 products similar to Counter-Strike: Global Offensive...\n",
      "----------\n",
      "Recommended: Counter-Strike: Condition Zero (score:0.069533239781)\n",
      "Recommended: Smashbox Arena (score:0.0492347891014)\n",
      "Recommended: HOARD (score:0.0419897226148)\n",
      "Recommended: Team Fortress 2 (score:0.0376382287517)\n",
      "Recommended: Sudden Strike 2 Gold (score:0.035092500903)\n",
      "Recommended: Awesomenauts - the 2D moba (score:0.0344973485261)\n",
      "Recommended: Left 4 Dead (score:0.0335489782866)\n",
      "Recommended: Devil May Cry® 4 Special Edition (score:0.0328419194394)\n",
      "Recommended: Eternity Warriors™ VR (score:0.0311919075975)\n",
      "Recommended: Unreal Tournament 3 Black (score:0.030638177305)\n"
     ]
    }
   ],
   "source": [
    "def item(id):\n",
    "    return ds.loc[ds['id'] == id]['game_title'].tolist()[0]\n",
    "\n",
    "def recommend(item_id, num):\n",
    "    print('Recommending ' + str(num) + \" products similar to \" + item(item_id) + '...')\n",
    "    print('----------')\n",
    "    recs = results[item_id][:num]\n",
    "    for rec in recs:\n",
    "        print('Recommended: ' + item(rec[1]) + \" (score:\" + str(rec[0]) + \")\")\n",
    "        \n",
    "recommend(0, 10)"
   ]
  },
  {
   "cell_type": "code",
   "execution_count": 236,
   "metadata": {
    "ExecuteTime": {
     "end_time": "2019-01-07T08:29:20.646348Z",
     "start_time": "2019-01-07T08:29:19.978351Z"
    }
   },
   "outputs": [],
   "source": [
    "ds = df[['id' ,'appid', 'game_title', 'tags', 'description']]\n",
    "tf = TfidfVectorizer(analyzer='word', ngram_range=(1, 3), min_df=0, stop_words='english')\n",
    "tfidf_matrix = tf.fit_transform(ds['tags'])\n",
    "cosine_similarities = linear_kernel(tfidf_matrix, tfidf_matrix)"
   ]
  },
  {
   "cell_type": "code",
   "execution_count": 237,
   "metadata": {
    "ExecuteTime": {
     "end_time": "2019-01-07T08:29:45.836577Z",
     "start_time": "2019-01-07T08:29:41.355569Z"
    }
   },
   "outputs": [
    {
     "name": "stdout",
     "output_type": "stream",
     "text": [
      "done!\n"
     ]
    }
   ],
   "source": [
    "results = {}\n",
    "\n",
    "for idx, row in ds.iterrows():\n",
    "    similar_indices = cosine_similarities[idx].argsort()[:-100:-1]\n",
    "    similar_items = [(cosine_similarities[idx][i], ds['id'][i]) for i in similar_indices]\n",
    "\n",
    "    # First item is the item itself, so remove it.\n",
    "    # Each dictionary entry is like: [(1,2), (3,4)], with each tuple being (score, item_id)\n",
    "    results[row['id']] = similar_items[1:]\n",
    "    \n",
    "print('done!')"
   ]
  },
  {
   "cell_type": "code",
   "execution_count": 238,
   "metadata": {
    "ExecuteTime": {
     "end_time": "2019-01-07T08:30:02.631652Z",
     "start_time": "2019-01-07T08:30:02.619652Z"
    }
   },
   "outputs": [
    {
     "name": "stdout",
     "output_type": "stream",
     "text": [
      "Recommending 10 products similar to Counter-Strike: Global Offensive...\n",
      "----------\n",
      "Recommended: Paladins® (score:0.190256469751)\n",
      "Recommended: Tom Clancy's Rainbow Six® Siege (score:0.183345525103)\n",
      "Recommended: Counter-Strike: Source (score:0.150885067257)\n",
      "Recommended: Counter-Strike (score:0.150592144832)\n",
      "Recommended: Call of Duty®: Modern Warfare® 2 (score:0.142173011586)\n",
      "Recommended: Muffled Warfare (score:0.121974178824)\n",
      "Recommended: Red Orchestra 2: Heroes of Stalingrad with Rising Storm (score:0.1175767392)\n",
      "Recommended: PlanetSide 2 (score:0.106728326284)\n",
      "Recommended: Insurgency (score:0.104130214655)\n",
      "Recommended: SMITE® (score:0.102145387943)\n"
     ]
    }
   ],
   "source": [
    "def item(id):\n",
    "    return ds.loc[ds['id'] == id]['game_title'].tolist()[0]\n",
    "\n",
    "def recommend(item_id, num):\n",
    "    print('Recommending ' + str(num) + \" products similar to \" + item(item_id) + '...')\n",
    "    print('----------')\n",
    "    recs = results[item_id][:num]\n",
    "    for rec in recs:\n",
    "        print('Recommended: ' + item(rec[1]) + \" (score:\" + str(rec[0]) + \")\")\n",
    "        \n",
    "recommend(0, 10)"
   ]
  },
  {
   "cell_type": "code",
   "execution_count": 113,
   "metadata": {
    "ExecuteTime": {
     "end_time": "2019-01-07T01:07:45.391377Z",
     "start_time": "2019-01-07T01:07:45.387380Z"
    }
   },
   "outputs": [
    {
     "data": {
      "text/plain": [
       "'Counter-Strike: Global Offensive'"
      ]
     },
     "execution_count": 113,
     "metadata": {},
     "output_type": "execute_result"
    }
   ],
   "source": []
  },
  {
   "cell_type": "code",
   "execution_count": null,
   "metadata": {},
   "outputs": [],
   "source": []
  }
 ],
 "metadata": {
  "kernelspec": {
   "display_name": "Python 3",
   "language": "python",
   "name": "python3"
  },
  "language_info": {
   "codemirror_mode": {
    "name": "ipython",
    "version": 3
   },
   "file_extension": ".py",
   "mimetype": "text/x-python",
   "name": "python",
   "nbconvert_exporter": "python",
   "pygments_lexer": "ipython3",
   "version": "3.7.0"
  }
 },
 "nbformat": 4,
 "nbformat_minor": 2
}
