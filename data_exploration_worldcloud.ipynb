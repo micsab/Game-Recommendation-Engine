{
 "cells": [
  {
   "cell_type": "code",
   "execution_count": 3,
   "metadata": {
    "ExecuteTime": {
     "end_time": "2019-01-20T21:28:02.285913Z",
     "start_time": "2019-01-20T21:28:02.281922Z"
    }
   },
   "outputs": [],
   "source": [
    "import pandas as pd\n",
    "import numpy as np\n"
   ]
  },
  {
   "cell_type": "code",
   "execution_count": 4,
   "metadata": {
    "ExecuteTime": {
     "end_time": "2019-01-20T21:28:03.087913Z",
     "start_time": "2019-01-20T21:28:02.588914Z"
    }
   },
   "outputs": [],
   "source": [
    "steam_games = pd.read_csv('steam_games_all_fields.csv', index_col=0, delimiter='\\t')\n",
    "\n",
    "# Split out 'appid' from the URL string.  This will be used later to merge in my own games\n",
    "# from the steam api\n",
    "app_id = steam_games['steam_url'].str.split('/',expand=True)\n",
    "app_id = app_id.drop([0, 1, 2, 5, 6], axis=1)\n",
    "app_id.columns = ['app', 'game_ID']\n",
    "df = pd.concat([steam_games, app_id], axis=1, sort=False)\n",
    "\n",
    "# Fill nil values and remove random characters\n",
    "df['description'] = df['description'].fillna('')\n",
    "df = df[~df.description.str.contains('no description')]\n",
    "df['release_date'] = df['release_date'].replace({'no release date' : ''})\n",
    "df['game_title'] = df['game_title'].str.replace(r'®', '')\n",
    "df['game_title'] = df['game_title'].str.replace(r'™', '')\n",
    "df['number_of_review'] = df['number_of_review'].replace({'no reviews' : ''})\n",
    "df['score'] = df['score'].replace({'no rating' : ''})\n",
    "\n",
    "# Dropping unneeded/dupe columns and renaming others for merge purposes later\n",
    "df = df.drop(['app'], axis=1)\n",
    "df['game_ID'] = pd.to_numeric(df['game_ID'], downcast='signed')\n",
    "df['number_of_review'] = pd.to_numeric(df['number_of_review'], downcast='integer')\n",
    "df['score'] = pd.to_numeric(df['score'])\n",
    "\n",
    "# Game must have a score, scores are not calculated until a min number of reviews is satisfied\n",
    "df = df[df['score'] > 0]\n",
    "df = df.rename(columns={\"game_ID\": \"appid\"})\n",
    "df = df.rename(columns={\"Unnamed: 0\": \"id\"})\n",
    "df = df.drop_duplicates(subset='appid', keep='first')\n",
    "df = df.dropna(subset=['game_title'])\n",
    "df = df.reset_index()\n",
    "df = df.drop(['index'], axis=1)"
   ]
  },
  {
   "cell_type": "code",
   "execution_count": 5,
   "metadata": {
    "ExecuteTime": {
     "end_time": "2019-01-20T21:32:55.572256Z",
     "start_time": "2019-01-20T21:28:22.694505Z"
    }
   },
   "outputs": [
    {
     "ename": "NameError",
     "evalue": "name 'Counter' is not defined",
     "output_type": "error",
     "traceback": [
      "\u001b[1;31m---------------------------------------------------------------------------\u001b[0m",
      "\u001b[1;31mNameError\u001b[0m                                 Traceback (most recent call last)",
      "\u001b[1;32m<ipython-input-5-8c730d4413b2>\u001b[0m in \u001b[0;36m<module>\u001b[1;34m()\u001b[0m\n\u001b[0;32m      2\u001b[0m \u001b[0mtextlist\u001b[0m \u001b[1;33m=\u001b[0m \u001b[0mtext\u001b[0m\u001b[1;33m.\u001b[0m\u001b[0msplit\u001b[0m\u001b[1;33m(\u001b[0m\u001b[1;34m\", \"\u001b[0m\u001b[1;33m)\u001b[0m\u001b[1;33m\u001b[0m\u001b[0m\n\u001b[0;32m      3\u001b[0m \u001b[0mwordfreq\u001b[0m \u001b[1;33m=\u001b[0m \u001b[1;33m[\u001b[0m\u001b[0mtextlist\u001b[0m\u001b[1;33m.\u001b[0m\u001b[0mcount\u001b[0m\u001b[1;33m(\u001b[0m\u001b[0mw\u001b[0m\u001b[1;33m)\u001b[0m \u001b[1;32mfor\u001b[0m \u001b[0mw\u001b[0m \u001b[1;32min\u001b[0m \u001b[0mtextlist\u001b[0m\u001b[1;33m]\u001b[0m\u001b[1;33m\u001b[0m\u001b[0m\n\u001b[1;32m----> 4\u001b[1;33m \u001b[0mpairs\u001b[0m \u001b[1;33m=\u001b[0m \u001b[0mCounter\u001b[0m\u001b[1;33m(\u001b[0m\u001b[0mtext\u001b[0m\u001b[1;33m.\u001b[0m\u001b[0msplit\u001b[0m\u001b[1;33m(\u001b[0m\u001b[1;34m\", \"\u001b[0m\u001b[1;33m)\u001b[0m\u001b[1;33m)\u001b[0m\u001b[1;33m.\u001b[0m\u001b[0mmost_common\u001b[0m\u001b[1;33m(\u001b[0m\u001b[1;36m25\u001b[0m\u001b[1;33m)\u001b[0m\u001b[1;33m\u001b[0m\u001b[0m\n\u001b[0m\u001b[0;32m      5\u001b[0m \u001b[0mword\u001b[0m \u001b[1;33m=\u001b[0m \u001b[1;33m[\u001b[0m\u001b[1;33m]\u001b[0m\u001b[1;33m\u001b[0m\u001b[0m\n\u001b[0;32m      6\u001b[0m \u001b[0mfrequency\u001b[0m \u001b[1;33m=\u001b[0m \u001b[1;33m[\u001b[0m\u001b[1;33m]\u001b[0m\u001b[1;33m\u001b[0m\u001b[0m\n",
      "\u001b[1;31mNameError\u001b[0m: name 'Counter' is not defined"
     ]
    }
   ],
   "source": [
    "text = \" \".join(desc for desc in df.tags)\n",
    "textlist = text.split(\", \")\n",
    "wordfreq = [textlist.count(w) for w in textlist]\n",
    "pairs = Counter(text.split(\", \")).most_common(25)\n",
    "word = []\n",
    "frequency = []\n",
    "\n",
    "for i in range(len(pairs)):\n",
    "    word.append(pairs[i][0])\n",
    "    frequency.append(pairs[i][1])\n",
    "\n",
    "indices = np.arange(len(pairs))"
   ]
  },
  {
   "cell_type": "code",
   "execution_count": null,
   "metadata": {},
   "outputs": [],
   "source": []
  }
 ],
 "metadata": {
  "kernelspec": {
   "display_name": "Python 3",
   "language": "python",
   "name": "python3"
  },
  "language_info": {
   "codemirror_mode": {
    "name": "ipython",
    "version": 3
   },
   "file_extension": ".py",
   "mimetype": "text/x-python",
   "name": "python",
   "nbconvert_exporter": "python",
   "pygments_lexer": "ipython3",
   "version": "3.7.0"
  }
 },
 "nbformat": 4,
 "nbformat_minor": 2
}
